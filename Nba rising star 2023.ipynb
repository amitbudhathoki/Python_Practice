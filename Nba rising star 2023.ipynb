{
 "cells": [
  {
   "cell_type": "markdown",
   "id": "8ab6a6a5-80e6-4b0f-b515-9629dca5fffb",
   "metadata": {},
   "source": [
    "# 1. Introduction"
   ]
  },
  {
   "cell_type": "markdown",
   "id": "d5d0bedc-d599-40a4-a534-48940bd460f0",
   "metadata": {},
   "source": [
    "# 2. Data Loading"
   ]
  },
  {
   "cell_type": "code",
   "execution_count": null,
   "id": "e52382b4-26e1-4f3d-b682-dd4eeb156a9b",
   "metadata": {},
   "outputs": [],
   "source": [
    "# libraries\n",
    "import random\n",
    "import pandas as pd\n",
    "import numpy as np\n",
    "import seaborn as sns\n",
    "import networkx as nx\n",
    "import datetime\n",
    "import fuzzywuzzy\n",
    "from fuzzywuzzy import process\n",
    "import matplotlib.pyplot as plt\n",
    "import matplotlib.font_manager as fm\n",
    "import matplotlib.gridspec as gridspec\n",
    "import warnings; warnings.filterwarnings(\"ignore\")\n",
    "\n",
    "# unhide all rows and columns\n",
    "pd.set_option('display.max_rows', 50)\n",
    "pd.set_option('display.max_columns', 50)\n",
    "pd.set_option('display.width', 1000)\n",
    "\n",
    "# for character encoding\n",
    "import chardet\n",
    "\n",
    "# for box-cox transformation\n",
    "from scipy import stats\n",
    "\n",
    "# for min_max scaling\n",
    "from mlxtend.preprocessing import minmax_scaling"
   ]
  },
  {
   "cell_type": "code",
   "execution_count": null,
   "id": "d75687ce-83ce-4e13-b225-ffffb2d4cf42",
   "metadata": {},
   "outputs": [],
   "source": []
  }
 ],
 "metadata": {
  "kernelspec": {
   "display_name": "Python 3 (ipykernel)",
   "language": "python",
   "name": "python3"
  },
  "language_info": {
   "codemirror_mode": {
    "name": "ipython",
    "version": 3
   },
   "file_extension": ".py",
   "mimetype": "text/x-python",
   "name": "python",
   "nbconvert_exporter": "python",
   "pygments_lexer": "ipython3",
   "version": "3.11.4"
  }
 },
 "nbformat": 4,
 "nbformat_minor": 5
}
